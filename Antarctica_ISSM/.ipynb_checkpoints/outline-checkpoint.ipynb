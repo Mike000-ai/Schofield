{
 "cells": [
  {
   "cell_type": "code",
   "execution_count": 57,
   "metadata": {},
   "outputs": [],
   "source": [
    "import sys\n",
    "import numpy as np\n",
    "\n",
    "x = [0,1,2,3,4,5,6]\n",
    "y = [0,1,2,3,4,5,6]\n",
    "z = np.array([[0,0,0,0,0,0,0],[0,1,1,1,1,1,0],[0,1,1,1,1,1,0],[0,1,1,1,1,0,0],\\\n",
    "              [0,1,1,1,1,1,0],[0,1,1,1,1,1,0],[0,0,0,0,0,0,0]])"
   ]
  },
  {
   "cell_type": "code",
   "execution_count": 59,
   "metadata": {},
   "outputs": [
    {
     "name": "stdout",
     "output_type": "stream",
     "text": [
      "[[2, 1], [1, 1], [1, 2]]\n",
      "[[2, 1], [1, 1], [1, 2], [1, 3]]\n",
      "[[2, 1], [1, 1], [1, 2], [1, 3], [2, 3]]\n",
      "[[2, 1], [1, 1], [1, 2], [1, 3], [2, 3], [2, 4]]\n",
      "[[2, 1], [1, 1], [1, 2], [1, 3], [2, 3], [2, 4], [1, 4]]\n",
      "[[2, 1], [1, 1], [1, 2], [1, 3], [2, 3], [2, 4], [1, 4], [1, 3]]\n",
      "[[2, 1], [1, 1], [1, 2], [1, 3], [2, 3], [2, 4], [1, 4], [1, 3], [2, 3]]\n",
      "[[2, 1], [1, 1], [1, 2], [1, 3], [2, 3], [2, 4], [1, 4], [1, 3], [2, 3], [2, 4]]\n",
      "[[2, 1], [1, 1], [1, 2], [1, 3], [2, 3], [2, 4], [1, 4], [1, 3], [2, 3], [2, 4], [1, 4]]\n",
      "[[2, 1], [1, 1], [1, 2], [1, 3], [2, 3], [2, 4], [1, 4], [1, 3], [2, 3], [2, 4], [1, 4], [1, 3]]\n"
     ]
    }
   ],
   "source": [
    "# clockwise\n",
    "# up->0, right->1, down->2 left->3\n",
    "\n",
    "class location:\n",
    "    \n",
    "    def __init__(self, loca=None, last=None):\n",
    "        self.loca = loca\n",
    "        self.last = last\n",
    "        self.uploca = [loca[0] - 1, loca[1]]\n",
    "        self.downloca = [loca[0] + 1, loca[1]]\n",
    "        self.rightloca = [loca[0], loca[1] + 1]\n",
    "        self.leftloca = [loca[0], loca[1] - 1]\n",
    "    \n",
    "    def forward(self, data = 0, last=0):\n",
    "        \n",
    "        nextloca = [0,0]\n",
    "        nextlast = 0\n",
    "\n",
    "        if self.last==0:\n",
    "            if data[self.leftloca[0],self.leftloca[1]]==0:\n",
    "                if data[self.uploca[0],self.uploca[1]]==0:\n",
    "                    if data[self.rightloca[0],self.rightloca[1]]==0:\n",
    "                        print('error: nowhere to go!')\n",
    "                        sys.exit()\n",
    "                    else:\n",
    "                        nextloca = self.rightloca\n",
    "                        nextlast = 1\n",
    "                else:\n",
    "                    nextloca = self.uploca\n",
    "                    nextlast = 0\n",
    "            else:\n",
    "                nextloca = self.leftloca\n",
    "                nextlast = 3\n",
    "\n",
    "        if self.last==1:\n",
    "            if data[self.uploca[0],self.uploca[1]]==0:\n",
    "                if data[self.rightloca[0],self.rightloca[1]]==0:\n",
    "                    if data[self.downloca[0],self.downloca[1]]==0:\n",
    "                        print('error: nowhere to go!')\n",
    "                        sys.exit()\n",
    "                    else:\n",
    "                        nextloca = self.downloca\n",
    "                        nextlast = 2\n",
    "                else:\n",
    "                    nextloca = self.rightloca\n",
    "                    nextlast = 3\n",
    "            else:\n",
    "                nextloca = self.uploca\n",
    "                nextlast = 0\n",
    "\n",
    "        if self.last==2:\n",
    "            if data[self.rightloca[0],self.rightloca[1]]==0:\n",
    "                if data[self.downloca[0],self.downloca[1]]==0:\n",
    "                    if data[self.leftloca[0],self.leftloca[1]]==0:\n",
    "                        print('error: nowhere to go!')\n",
    "                        sys.exit()\n",
    "                    else:\n",
    "                        nextloca = self.leftloca\n",
    "                        nextlast = 3\n",
    "                else:\n",
    "                    nextloca = self.downloca\n",
    "                    nextlast = 2\n",
    "            else:\n",
    "                nextloca = self.rightloca\n",
    "                nextlast = 1\n",
    "\n",
    "        if self.last==3:\n",
    "            if data[self.downloca[0],self.downloca[1]]==0:\n",
    "                if data[self.leftloca[0],self.leftloca[1]]==0:\n",
    "                    if data[self.uploca[0],self.uploca[1]]==0:\n",
    "                        print('error: nowhere to go!')\n",
    "                        sys.exit()\n",
    "                    else:\n",
    "                        nextloca = self.uploca\n",
    "                        nextlast = 0\n",
    "                else:\n",
    "                    nextloca = self.leftloca\n",
    "                    nextlast = 3\n",
    "            else:\n",
    "                nextloca = self.downloca\n",
    "                nextlast = 2\n",
    "\n",
    "        nextlocation = location(nextloca, nextlast)\n",
    "        \n",
    "        return nextlocation\n",
    "        \n",
    "        \n",
    "# initialize\n",
    "\n",
    "last = 0\n",
    "iniloca = location([2,1], last)\n",
    "traj = [[x[2],y[1]]]\n",
    "\n",
    "loca = iniloca.forward(z, last)\n",
    "traj.append([x[loca.loca[0]],y[loca.loca[1]]])\n",
    "\n",
    "i = 0\n",
    "\n",
    "while(loca.loca!=iniloca.loca and i<10):\n",
    "    loca = loca.forward(z, last)\n",
    "    traj.append([x[loca.loca[0]],y[loca.loca[1]]])\n",
    "    i += 1\n",
    "    print(traj)"
   ]
  },
  {
   "cell_type": "code",
   "execution_count": 62,
   "metadata": {},
   "outputs": [
    {
     "name": "stdout",
     "output_type": "stream",
     "text": [
      "[[0 0 0 0 0 0 0]\n",
      " [0 1 1 1 1 1 0]\n",
      " [0 1 1 1 1 1 0]\n",
      " [0 1 1 1 1 0 0]\n",
      " [0 1 1 1 1 1 0]\n",
      " [0 1 1 1 1 1 0]\n",
      " [0 0 0 0 0 0 0]]\n",
      "1\n",
      "0\n"
     ]
    }
   ],
   "source": [
    "print(z)\n",
    "print(z[1,3])\n",
    "print(z[3,5])"
   ]
  },
  {
   "cell_type": "code",
   "execution_count": 5,
   "metadata": {},
   "outputs": [],
   "source": [
    "z.append([0,0,0,0,0])"
   ]
  },
  {
   "cell_type": "code",
   "execution_count": 6,
   "metadata": {},
   "outputs": [
    {
     "name": "stdout",
     "output_type": "stream",
     "text": [
      "[[0, 0, 0, 0, 0], [0, 1, 1, 1, 0], [0, 1, 1, 1, 0], [0, 1, 1, 1, 0], [0, 0, 0, 0, 0], [0, 0, 0, 0, 0]]\n"
     ]
    }
   ],
   "source": [
    "print(z)"
   ]
  },
  {
   "cell_type": "code",
   "execution_count": null,
   "metadata": {},
   "outputs": [],
   "source": []
  }
 ],
 "metadata": {
  "kernelspec": {
   "display_name": "Python 3",
   "language": "python",
   "name": "python3"
  },
  "language_info": {
   "codemirror_mode": {
    "name": "ipython",
    "version": 3
   },
   "file_extension": ".py",
   "mimetype": "text/x-python",
   "name": "python",
   "nbconvert_exporter": "python",
   "pygments_lexer": "ipython3",
   "version": "3.8.3"
  }
 },
 "nbformat": 4,
 "nbformat_minor": 4
}
