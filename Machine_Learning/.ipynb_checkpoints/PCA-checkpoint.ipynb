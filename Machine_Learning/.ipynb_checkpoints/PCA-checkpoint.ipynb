{
 "cells": [
  {
   "cell_type": "code",
   "execution_count": 6,
   "metadata": {},
   "outputs": [
    {
     "name": "stdout",
     "output_type": "stream",
     "text": [
      "原数据为：\n",
      " [[149.5  69.5  38.5]\n",
      " [162.5  77.   55.5]\n",
      " [162.7  78.5  50.8]\n",
      " [162.2  87.5  65.5]\n",
      " [156.5  74.5  49. ]\n",
      " [156.1  74.5  45.5]\n",
      " [172.   76.5  51. ]\n",
      " [173.2  81.5  59.5]\n",
      " [159.5  74.5  43.5]\n",
      " [157.7  79.   53.5]]\n",
      "降维之后的数据为\n",
      " [[150.61501842  69.33245918  37.7256978 ]\n",
      " [163.23376412  78.83983947  53.83989659]\n",
      " [161.77310595  77.73933131  51.9746291 ]\n",
      " [169.60603725  83.64092077  61.97731994]\n",
      " [158.17370269  75.02742186  47.37817386]\n",
      " [156.65121871  73.88033208  45.43395451]\n",
      " [164.28952922  79.63528781  55.18811368]\n",
      " [169.23628168  83.3623347   61.5051403 ]\n",
      " [156.91572274  74.07961817  45.77172744]\n",
      " [161.40561923  77.46245466  51.50534679]]\n"
     ]
    },
    {
     "data": {
      "image/png": "[encoded data removed]",
      "text/plain": [
       "<Figure size 432x288 with 1 Axes>"
      ]
     },
     "metadata": {
      "needs_background": "light"
     },
     "output_type": "display_data"
    },
    {
     "data": {
      "image/png": "[encoded data removed]",
      "text/plain": [
       "<Figure size 432x288 with 1 Axes>"
      ]
     },
     "metadata": {
      "needs_background": "light"
     },
     "output_type": "display_data"
    },
    {
     "data": {
      "image/png": "[encoded data removed]",
      "text/plain": [
       "<Figure size 432x288 with 1 Axes>"
      ]
     },
     "metadata": {
      "needs_background": "light"
     },
     "output_type": "display_data"
    }
   ],
   "source": [
    "import numpy as np\n",
    "import matplotlib as mpl \n",
    "import matplotlib.pyplot as plt \n",
    "from mpl_toolkits.mplot3d import Axes3D\n",
    "import csv\n",
    "\n",
    "\n",
    "def zeroMean(dataMat):\n",
    "\tmeanValue = np.mean(dataMat, axis = 0)\n",
    "\tnewData = dataMat - meanValue\n",
    "\treturn newData,meanValue\n",
    "\n",
    "def pca(dataMat,n):\n",
    "\tnewData,meanValue = zeroMean(dataMat)\n",
    "\tcovMat = np.cov(newData, rowvar = 0)\n",
    "\teigVals,eigVects = np.linalg.eig(np.mat(covMat))\n",
    "\teigValIndice = np.argsort(eigVals)\n",
    "\tn_eigValIndice = eigValIndice[-1:-(n+1):-1]\n",
    "\tn_eigVect = eigVects[:,n_eigValIndice]\n",
    "\tlowDDataMat = newData*n_eigVect\n",
    "\treconDataMat = (lowDDataMat*n_eigVect.T) + meanValue\n",
    "\treturn lowDDataMat,reconDataMat\n",
    "\n",
    "#读取数据\n",
    "p = r'/Users/mankai/Documents/满凯的资料/课程资料/机器学习基础/作业/data.csv'\n",
    "with open(p,encoding = 'utf-8') as f:\n",
    "    dataMat = np.loadtxt(f,delimiter = \",\",skiprows = 1)\n",
    "\n",
    "#执行PCA过程\n",
    "lowDDataMat,reconDataMat = pca(dataMat,2)\n",
    "print(\"原数据为：\\n\",dataMat)\n",
    "print(\"降维之后的数据为\\n\",reconDataMat)\n",
    "\n",
    "# #降2维后的图表展示结果\n",
    "# plt.scatter(reconDataMat[:,0].tolist(),reconDataMat[:,1].tolist(), marker='o')\n",
    "# plt.scatter(dataMat[:,0].tolist(),dataMat[:,1].tolist(), marker='^')\n",
    "# plt.show()\n",
    "\n",
    "#降1维后的图表展示结果\n",
    "plt.scatter(reconDataMat[:,0].tolist(),reconDataMat[:,1].tolist(), marker='o')\n",
    "plt.scatter(dataMat[:,0].tolist(),dataMat[:,1].tolist(), marker='^')\n",
    "plt.show()\n",
    "\n",
    "plt.scatter(reconDataMat[:,0].tolist(),reconDataMat[:,2].tolist(), marker='o')\n",
    "plt.scatter(dataMat[:,0].tolist(),dataMat[:,2].tolist(), marker='^')\n",
    "plt.show()\n",
    "\n",
    "plt.scatter(reconDataMat[:,1].tolist(),reconDataMat[:,2].tolist(), marker='o')\n",
    "plt.scatter(dataMat[:,1].tolist(),dataMat[:,2].tolist(), marker='^')\n",
    "plt.show()\n",
    "\n",
    "#降1维后的图表展示结果\n",
    "# fig = plt.figure()\n",
    "# ax = fig.add_subplot(111, projection='3d')\n",
    "\n",
    "# ax.scatter(reconDataMat[:,0].tolist(),reconDataMat[:,1].tolist(),reconDataMat[:,2].tolist(),marker='o')\n",
    "# ax.scatter(dataMat[:,0].tolist(),dataMat[:,1].tolist(),dataMat[:,2].tolist(),marker='^')\n",
    " \n",
    "# ax.set_xlabel('X Label')\n",
    "# ax.set_ylabel('Y Label')\n",
    "# ax.set_zlabel('Z Label')\n",
    " \n",
    "# plt.show()"
   ]
  },
  {
   "cell_type": "code",
   "execution_count": null,
   "metadata": {},
   "outputs": [],
   "source": []
  }
 ],
 "metadata": {
  "kernelspec": {
   "display_name": "Python 3",
   "language": "python",
   "name": "python3"
  },
  "language_info": {
   "codemirror_mode": {
    "name": "ipython",
    "version": 3
   },
   "file_extension": ".py",
   "mimetype": "text/x-python",
   "name": "python",
   "nbconvert_exporter": "python",
   "pygments_lexer": "ipython3",
   "version": "3.8.3"
  }
 },
 "nbformat": 4,
 "nbformat_minor": 4
}
